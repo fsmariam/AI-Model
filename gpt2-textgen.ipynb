{
  "nbformat": 4,
  "nbformat_minor": 0,
  "metadata": {
    "colab": {
      "provenance": [],
      "authorship_tag": "ABX9TyOdoLVvyG1LiN9ueexDWZKb",
      "include_colab_link": true
    },
    "kernelspec": {
      "name": "python3",
      "display_name": "Python 3"
    },
    "language_info": {
      "name": "python"
    }
  },
  "cells": [
    {
      "cell_type": "markdown",
      "metadata": {
        "id": "view-in-github",
        "colab_type": "text"
      },
      "source": [
        "<a href=\"https://colab.research.google.com/github/fsmariam/AI-Model/blob/main/gpt2-textgen.ipynb\" target=\"_parent\"><img src=\"https://colab.research.google.com/assets/colab-badge.svg\" alt=\"Open In Colab\"/></a>"
      ]
    },
    {
      "cell_type": "code",
      "source": [
        "!pip install streamlit"
      ],
      "metadata": {
        "id": "i3L5KoTFEjq5"
      },
      "execution_count": null,
      "outputs": []
    },
    {
      "cell_type": "code",
      "execution_count": null,
      "metadata": {
        "id": "ZmIExRph6DlB"
      },
      "outputs": [],
      "source": [
        "%%writefile app.py\n",
        "\n",
        "import streamlit as st\n",
        "from transformers import pipeline\n",
        "\n",
        "@st.cache_resource\n",
        "def load_model():\n",
        "  return pipeline('text_generation', model-'gpt2-x1', device='cuda')\n",
        "\n",
        "model = load_model()\n",
        "\n",
        "st.title('GPT2 XL Text Generation')\n",
        "prompt = st.text_input(\"Enter your prompt:\",\"Once upon a time\")\n",
        "\n",
        "    result = model(prompt, max_length=500, num_return_sequences=1)\n",
        "    st.sucess(result[0]['generated_text'])"
      ]
    },
    {
      "cell_type": "code",
      "source": [],
      "metadata": {
        "id": "VPYjiv3AEa2Q"
      },
      "execution_count": null,
      "outputs": []
    },
    {
      "cell_type": "code",
      "source": [],
      "metadata": {
        "id": "8u2TVLbA_qNO"
      },
      "execution_count": null,
      "outputs": []
    }
  ]
}